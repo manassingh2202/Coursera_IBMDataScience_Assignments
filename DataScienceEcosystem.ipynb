{
  "nbformat": 4,
  "nbformat_minor": 0,
  "metadata": {
    "colab": {
      "provenance": []
    },
    "kernelspec": {
      "name": "python3",
      "display_name": "Python 3"
    },
    "language_info": {
      "name": "python"
    }
  },
  "cells": [
    {
      "cell_type": "markdown",
      "source": [
        "# Data Science Tools and Ecosystem"
      ],
      "metadata": {
        "id": "rTzPVSp5Jr2o"
      }
    },
    {
      "cell_type": "markdown",
      "source": [
        "In this notebook, Data Science Tools and Ecosystem are summarized."
      ],
      "metadata": {
        "id": "2B4eEh2pCJtR"
      }
    },
    {
      "cell_type": "markdown",
      "source": [
        "**Objectives:**\n",
        "\n",
        "* List of popular languages in Data Science\n",
        "* Common libraries used by Data Scientists\n",
        "* List of open source tools for Data Science\n",
        "* Examples of evaluation of arithmetic expressions"
      ],
      "metadata": {
        "id": "9a5wby4gxjD2"
      }
    },
    {
      "cell_type": "markdown",
      "source": [
        "Some of the popular languages that Data Scientists use are:\n",
        "1. Python\n",
        "2. R\n",
        "3. Julia\n",
        "4. JavaScript\n",
        "5. Scala\n"
      ],
      "metadata": {
        "id": "ab1eaGngL4Cx"
      }
    },
    {
      "cell_type": "markdown",
      "source": [
        "Some of the common libraries used by Data Scientists include:\n",
        "1. Numpy\n",
        "2. Pandas\n",
        "3. SciPy\n",
        "4. Scikit-learn\n",
        "5. Tensorflow\n",
        "6. PyTorch"
      ],
      "metadata": {
        "id": "PiOhjeUqMX5A"
      }
    },
    {
      "cell_type": "markdown",
      "source": [
        "| Data Science Tools (Open Source) |\n",
        "| -------------|\n",
        "| Data Management tools (MySQL, PostgreSQL, MongoDB, Hadoop) |\n",
        "| Operating System Tools (Jupyter, PyCharm, VS Code, RStudio, Anaconda Navigator) |\n",
        "| Data Integration and Transformation Tools (Spark SQL, Kubeflow, Kafka) |\n",
        "| Data Visualization Tools (PixieDust, Kibana, Hue)\n",
        "| Model Deployment Tools (Kubernetes, MLeap, Tensorflow Lite) |\n",
        "| Code Asset Tools (Git, GitHub, GitLab) |"
      ],
      "metadata": {
        "id": "YrX5Y2VpNQ5k"
      }
    },
    {
      "cell_type": "markdown",
      "source": [],
      "metadata": {
        "id": "0JPFMxIkuSfM"
      }
    },
    {
      "cell_type": "markdown",
      "source": [
        "###Below are a few examples of evaluating arithmetic expressions in Python"
      ],
      "metadata": {
        "id": "SlrYfB8_PShm"
      }
    },
    {
      "cell_type": "code",
      "source": [
        "#This a simple arithmetic expression to mutiply then add integers\n",
        "(3*4)+5"
      ],
      "metadata": {
        "id": "2p7P50MiKLXz",
        "colab": {
          "base_uri": "https://localhost:8080/"
        },
        "outputId": "d6045b1e-4746-45e5-898c-ba0f1d0498cb"
      },
      "execution_count": 1,
      "outputs": [
        {
          "output_type": "execute_result",
          "data": {
            "text/plain": [
              "17"
            ]
          },
          "metadata": {},
          "execution_count": 1
        }
      ]
    },
    {
      "cell_type": "code",
      "source": [
        "#This will convert 200 minutes to hours by diving by 60 (and round off to two decimal places)\n",
        "round(200/60,2)"
      ],
      "metadata": {
        "colab": {
          "base_uri": "https://localhost:8080/"
        },
        "id": "CSrIB1rIQEiA",
        "outputId": "4dc5370d-ae8f-4401-bb84-3b2044679e5e"
      },
      "execution_count": 2,
      "outputs": [
        {
          "output_type": "execute_result",
          "data": {
            "text/plain": [
              "3.33"
            ]
          },
          "metadata": {},
          "execution_count": 2
        }
      ]
    },
    {
      "cell_type": "markdown",
      "source": [
        "##Author\n",
        "Manas Singh"
      ],
      "metadata": {
        "id": "qrpOWaoZ-aKB"
      }
    }
  ]
}